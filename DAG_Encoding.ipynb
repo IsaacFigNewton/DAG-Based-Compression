{
  "nbformat": 4,
  "nbformat_minor": 0,
  "metadata": {
    "colab": {
      "provenance": [],
      "authorship_tag": "ABX9TyOtMJGZX0Ap8kuIbTZzIyeT",
      "include_colab_link": true
    },
    "kernelspec": {
      "name": "python3",
      "display_name": "Python 3"
    },
    "language_info": {
      "name": "python"
    }
  },
  "cells": [
    {
      "cell_type": "markdown",
      "metadata": {
        "id": "view-in-github",
        "colab_type": "text"
      },
      "source": [
        "<a href=\"https://colab.research.google.com/github/IsaacFigNewton/DAG-Based-Compression/blob/main/DAG_Encoding.ipynb\" target=\"_parent\"><img src=\"https://colab.research.google.com/assets/colab-badge.svg\" alt=\"Open In Colab\"/></a>"
      ]
    },
    {
      "cell_type": "markdown",
      "source": [
        "# Install packages and import libraries"
      ],
      "metadata": {
        "id": "RWgUeFn-XoEf"
      }
    },
    {
      "cell_type": "code",
      "source": [
        "# !pip install --upgrade ete3  # http://etetoolkit.org/docs/latest/reference/reference_treeview.html#treestyle\n",
        "# !pip install PyQt5\n",
        "\n",
        "\n",
        "# # Keep trying to get this working to make things look nice\n",
        "# import ete3\n",
        "# from ete3 import Tree, TreeStyle"
      ],
      "metadata": {
        "colab": {
          "base_uri": "https://localhost:8080/"
        },
        "id": "JUJhthv5WOFe",
        "outputId": "45c0c419-c677-4ab7-e6fa-22e813428cb2"
      },
      "execution_count": 1,
      "outputs": [
        {
          "output_type": "stream",
          "name": "stdout",
          "text": [
            "Collecting ete3\n",
            "  Downloading ete3-3.1.3.tar.gz (4.8 MB)\n",
            "\u001b[2K     \u001b[90m━━━━━━━━━━━━━━━━━━━━━━━━━━━━━━━━━━━━━━━━\u001b[0m \u001b[32m4.8/4.8 MB\u001b[0m \u001b[31m23.6 MB/s\u001b[0m eta \u001b[36m0:00:00\u001b[0m\n",
            "\u001b[?25h  Preparing metadata (setup.py) ... \u001b[?25l\u001b[?25hdone\n",
            "Building wheels for collected packages: ete3\n",
            "  Building wheel for ete3 (setup.py) ... \u001b[?25l\u001b[?25hdone\n",
            "  Created wheel for ete3: filename=ete3-3.1.3-py3-none-any.whl size=2273788 sha256=09ed27632443de11b9ece8da80f58da7b7b06a7e9bde0b1a141b8b274bb178ad\n",
            "  Stored in directory: /root/.cache/pip/wheels/a0/72/00/1982bd848e52b03079dbf800900120bc1c20e92e9a1216e525\n",
            "Successfully built ete3\n",
            "Installing collected packages: ete3\n",
            "Successfully installed ete3-3.1.3\n",
            "Collecting PyQt5\n",
            "  Downloading PyQt5-5.15.11-cp38-abi3-manylinux_2_17_x86_64.whl.metadata (2.1 kB)\n",
            "Collecting PyQt5-sip<13,>=12.15 (from PyQt5)\n",
            "  Downloading PyQt5_sip-12.15.0-cp310-cp310-manylinux_2_5_x86_64.manylinux1_x86_64.whl.metadata (421 bytes)\n",
            "Collecting PyQt5-Qt5<5.16.0,>=5.15.2 (from PyQt5)\n",
            "  Downloading PyQt5_Qt5-5.15.14-py3-none-manylinux2014_x86_64.whl.metadata (536 bytes)\n",
            "Downloading PyQt5-5.15.11-cp38-abi3-manylinux_2_17_x86_64.whl (8.2 MB)\n",
            "\u001b[2K   \u001b[90m━━━━━━━━━━━━━━━━━━━━━━━━━━━━━━━━━━━━━━━━\u001b[0m \u001b[32m8.2/8.2 MB\u001b[0m \u001b[31m26.6 MB/s\u001b[0m eta \u001b[36m0:00:00\u001b[0m\n",
            "\u001b[?25hDownloading PyQt5_Qt5-5.15.14-py3-none-manylinux2014_x86_64.whl (60.5 MB)\n",
            "\u001b[2K   \u001b[90m━━━━━━━━━━━━━━━━━━━━━━━━━━━━━━━━━━━━━━━━\u001b[0m \u001b[32m60.5/60.5 MB\u001b[0m \u001b[31m10.2 MB/s\u001b[0m eta \u001b[36m0:00:00\u001b[0m\n",
            "\u001b[?25hDownloading PyQt5_sip-12.15.0-cp310-cp310-manylinux_2_5_x86_64.manylinux1_x86_64.whl (270 kB)\n",
            "\u001b[2K   \u001b[90m━━━━━━━━━━━━━━━━━━━━━━━━━━━━━━━━━━━━━━━━\u001b[0m \u001b[32m270.5/270.5 kB\u001b[0m \u001b[31m11.4 MB/s\u001b[0m eta \u001b[36m0:00:00\u001b[0m\n",
            "\u001b[?25hInstalling collected packages: PyQt5-Qt5, PyQt5-sip, PyQt5\n",
            "Successfully installed PyQt5-5.15.11 PyQt5-Qt5-5.15.14 PyQt5-sip-12.15.0\n"
          ]
        }
      ]
    },
    {
      "cell_type": "code",
      "execution_count": 2,
      "metadata": {
        "id": "wpoJAKxqGmT8"
      },
      "outputs": [],
      "source": [
        "import numpy as np\n",
        "import pandas as pd\n",
        "import seaborn as sns\n",
        "\n",
        "import matplotlib.pyplot as plt\n",
        "\n",
        "import warnings\n",
        "# warnings.filterwarnings('ignore')"
      ]
    },
    {
      "cell_type": "code",
      "source": [
        "import os\n",
        "\n",
        "# Set the environment variables for PyQt5\n",
        "os.environ['QT_QPA_PLATFORM_PLUGIN_PATH'] = '/usr/lib/x86_64-linux-gnu/qt5/plugins'\n",
        "os.environ['QT_PLUGIN_PATH'] = '/usr/lib/x86_64-linux-gnu/qt5/plugins'\n",
        "os.environ['QT_QPA_PLATFORM'] = 'xcb'\n",
        "os.environ['QT_DEBUG_PLUGINS'] = '1'"
      ],
      "metadata": {
        "id": "mMGDF1yiWLkH"
      },
      "execution_count": 3,
      "outputs": []
    },
    {
      "cell_type": "markdown",
      "source": [
        "# Classes"
      ],
      "metadata": {
        "id": "gp8TIrvQG243"
      }
    },
    {
      "cell_type": "code",
      "source": [
        "class SuffixNode:\n",
        "  def __init__ (self, suffix=None, children=dict(), parent=None):\n",
        "    self.suffix = suffix\n",
        "    self.children = children\n",
        "    self.parent = parent\n",
        "\n",
        "  def print_tree(self, indent = 1):\n",
        "    # Iterate over the keys (features) in the tree\n",
        "    for key, node in self.children.items():\n",
        "        print(' ' * indent + str(key))\n",
        "        # If the node is a SuffixNode, recursively print the subtree\n",
        "        if isinstance(node, SuffixNode):\n",
        "            node.print_tree(indent + 4)\n",
        "        else:\n",
        "            print(' ' * (indent + 4) + str(node))"
      ],
      "metadata": {
        "id": "UefTg5R9G4gV"
      },
      "execution_count": 14,
      "outputs": []
    },
    {
      "cell_type": "markdown",
      "source": [
        "#Build Suffix Tree"
      ],
      "metadata": {
        "id": "cawUENP_HKsN"
      }
    },
    {
      "cell_type": "code",
      "source": [
        "test = \"CAGTCAGG\"\n",
        "\n",
        "root = SuffixNode()\n",
        "\n",
        "# loop through the string, starting with the last character\n",
        "for i in range(0, len(test)):\n",
        "  suffix = test[len(test) - i - 1:]\n",
        "  node = SuffixNode(suffix=suffix, parent=root)\n",
        "  root.children[suffix] = node\n",
        "\n",
        "root.children"
      ],
      "metadata": {
        "colab": {
          "base_uri": "https://localhost:8080/"
        },
        "id": "13ofz24yHJ9O",
        "outputId": "546b5a37-c45d-474e-d9d2-2caf19252aa8"
      },
      "execution_count": 20,
      "outputs": [
        {
          "output_type": "execute_result",
          "data": {
            "text/plain": [
              "{'G': <__main__.SuffixNode at 0x78133b4c98a0>,\n",
              " 'GG': <__main__.SuffixNode at 0x78133b4ca200>,\n",
              " 'AGG': <__main__.SuffixNode at 0x78137ae83e20>,\n",
              " 'CAGG': <__main__.SuffixNode at 0x78137a1ed210>,\n",
              " 'TCAGG': <__main__.SuffixNode at 0x78137a1ec280>,\n",
              " 'GTCAGG': <__main__.SuffixNode at 0x78133b4ca1d0>,\n",
              " 'AGTCAGG': <__main__.SuffixNode at 0x78133b4c99c0>,\n",
              " 'CAGTCAGG': <__main__.SuffixNode at 0x78133b4c99f0>}"
            ]
          },
          "metadata": {},
          "execution_count": 20
        }
      ]
    },
    {
      "cell_type": "code",
      "source": [
        "# # Loads a tree structure from a newick string. The returned variable ’t’ is the root node for the tree.\n",
        "# t = Tree(\"(A:1,(B:1,(E:1,D:1):0.5):0.5);\" )\n",
        "\n",
        "# print(t)\n",
        "\n",
        "# # ts = TreeStyle()\n",
        "# # ts.show_leaf_name = True\n",
        "\n",
        "# # t.show(tree_style=ts)"
      ],
      "metadata": {
        "colab": {
          "base_uri": "https://localhost:8080/"
        },
        "id": "BXiGBtLqLqnI",
        "outputId": "5be45251-d6b3-4b49-b51e-3c0d54c1be43"
      },
      "execution_count": 9,
      "outputs": [
        {
          "output_type": "stream",
          "name": "stdout",
          "text": [
            "\n",
            "   /-A\n",
            "--|\n",
            "  |   /-B\n",
            "   \\-|\n",
            "     |   /-E\n",
            "      \\-|\n",
            "         \\-D\n"
          ]
        }
      ]
    },
    {
      "cell_type": "code",
      "source": [],
      "metadata": {
        "id": "8DFl6mq1Ww3n"
      },
      "execution_count": null,
      "outputs": []
    }
  ]
}