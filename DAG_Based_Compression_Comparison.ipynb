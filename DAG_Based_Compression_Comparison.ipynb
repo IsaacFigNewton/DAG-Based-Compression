{
  "nbformat": 4,
  "nbformat_minor": 0,
  "metadata": {
    "colab": {
      "provenance": [],
      "authorship_tag": "ABX9TyMuUdFpm7FW+iDRWBRwDfnT",
      "include_colab_link": true
    },
    "kernelspec": {
      "name": "python3",
      "display_name": "Python 3"
    },
    "language_info": {
      "name": "python"
    }
  },
  "cells": [
    {
      "cell_type": "markdown",
      "metadata": {
        "id": "view-in-github",
        "colab_type": "text"
      },
      "source": [
        "<a href=\"https://colab.research.google.com/github/IsaacFigNewton/DAG-Based-Compression/blob/main/DAG_Based_Compression_Comparison.ipynb\" target=\"_parent\"><img src=\"https://colab.research.google.com/assets/colab-badge.svg\" alt=\"Open In Colab\"/></a>"
      ]
    },
    {
      "cell_type": "markdown",
      "source": [
        "# TODO:\n",
        "\n",
        "<ol>\n",
        "  <li>Run several text compression algorithms</li>\n",
        "</ol>"
      ],
      "metadata": {
        "id": "3tYvXqBYxAwL"
      }
    },
    {
      "cell_type": "markdown",
      "source": [
        "#Install, Import, and Configure Stuff"
      ],
      "metadata": {
        "id": "6l6ttfG2xUOg"
      }
    },
    {
      "cell_type": "markdown",
      "source": [
        "## Install packages"
      ],
      "metadata": {
        "id": "Y6fwj7OixjCo"
      }
    },
    {
      "cell_type": "code",
      "execution_count": null,
      "metadata": {
        "id": "4lSsOz0iwc3r"
      },
      "outputs": [],
      "source": [
        "!pip install dahuffman"
      ]
    },
    {
      "cell_type": "markdown",
      "source": [
        "## Import texts"
      ],
      "metadata": {
        "id": "lIo8-zCBxfZJ"
      }
    },
    {
      "cell_type": "code",
      "source": [
        "from google.colab import drive\n",
        "drive.mount('/content/drive')\n",
        "\n",
        "code_path = '/content/drive/MyDrive/Research/Code/'"
      ],
      "metadata": {
        "colab": {
          "base_uri": "https://localhost:8080/"
        },
        "id": "1f_VWMxzxnfE",
        "outputId": "611dc8f1-e6c1-4001-e5c5-521b548c288c"
      },
      "execution_count": 2,
      "outputs": [
        {
          "output_type": "stream",
          "name": "stdout",
          "text": [
            "Mounted at /content/drive\n"
          ]
        }
      ]
    }
  ]
}