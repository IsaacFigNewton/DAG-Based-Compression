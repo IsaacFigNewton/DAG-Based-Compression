{
  "nbformat": 4,
  "nbformat_minor": 0,
  "metadata": {
    "colab": {
      "provenance": [],
      "collapsed_sections": [
        "RWgUeFn-XoEf",
        "RYBfpRS1-yAs",
        "_k3t-Px1Mo4D",
        "cawUENP_HKsN"
      ],
      "authorship_tag": "ABX9TyPpSyj0szBi0M8QPjyQZQfj",
      "include_colab_link": true
    },
    "kernelspec": {
      "name": "python3",
      "display_name": "Python 3"
    },
    "language_info": {
      "name": "python"
    }
  },
  "cells": [
    {
      "cell_type": "markdown",
      "metadata": {
        "id": "view-in-github",
        "colab_type": "text"
      },
      "source": [
        "<a href=\"https://colab.research.google.com/github/IsaacFigNewton/DAG-Based-Compression/blob/main/DAG_Encoding.ipynb\" target=\"_parent\"><img src=\"https://colab.research.google.com/assets/colab-badge.svg\" alt=\"Open In Colab\"/></a>"
      ]
    },
    {
      "cell_type": "markdown",
      "source": [
        "# TODO\n",
        "\n",
        "\n",
        "\n",
        "1.   Map suffix tree tokens to token composition DAG\n",
        "    *   Represent tokens at each level of the suffix tree as a sequential combination of smaller tokens\n",
        "    *   Map all tokens to nodes\n",
        "    *   Convert references to previous tokens to edges that map to locations in current node\n",
        "    *   Convert this DAG to an edge list\n",
        "    *   Plot the DAG with NX\n",
        "2.  Represent each token embedding with a sparse matrix of dimensions n x m where n=number of unique characters and m=number of unique character positions\n",
        "3.  Represent vectorization of text as third dimension, with token vector scaling corresponding to token frequencies"
      ],
      "metadata": {
        "id": "ky2XwlYkVi4Q"
      }
    },
    {
      "cell_type": "markdown",
      "source": [
        "# Install packages and import libraries"
      ],
      "metadata": {
        "id": "RWgUeFn-XoEf"
      }
    },
    {
      "cell_type": "code",
      "execution_count": 1,
      "metadata": {
        "id": "wpoJAKxqGmT8"
      },
      "outputs": [],
      "source": [
        "from queue import Queue\n",
        "import numpy as np\n",
        "import urllib.request as url\n",
        "import pandas as pd\n",
        "\n",
        "import networkx as nx\n",
        "import matplotlib.pyplot as plt\n",
        "import seaborn as sns\n",
        "\n",
        "import warnings\n",
        "# warnings.filterwarnings('ignore')"
      ]
    },
    {
      "cell_type": "markdown",
      "source": [
        "#Important functions"
      ],
      "metadata": {
        "id": "xlFwktSL-2gM"
      }
    },
    {
      "cell_type": "markdown",
      "source": [
        "##Utility"
      ],
      "metadata": {
        "id": "RYBfpRS1-yAs"
      }
    },
    {
      "cell_type": "code",
      "source": [
        "def tokenize(text, token_dict, max_token_len):\n",
        "    # filter to include only tokens shorter than the\n",
        "    available_tokens = {token: freq for token, freq in token_dict.items() if len(token) <= max_token_len}\n",
        "\n",
        "    # sort tokens by length and secondarily frequency\n",
        "    best_tokens = sorted(list(available_tokens.items()),\n",
        "                         key=lambda x: (-len(x[0]), -x[1]))\n",
        "\n",
        "    # extract tokens from the ordered list\n",
        "    tokenization = []\n",
        "    while text != \"\":\n",
        "        for token, freq in best_tokens:\n",
        "            if text.startswith(token):\n",
        "                tokenization.append(token)\n",
        "                text = text[len(token):]\n",
        "\n",
        "    return tokenization"
      ],
      "metadata": {
        "id": "ywGwIKh2-Z8x"
      },
      "execution_count": 2,
      "outputs": []
    },
    {
      "cell_type": "code",
      "source": [
        "def print_tree(tree, indent = 0):\n",
        "    # Iterate over the child.suffixes (features) in the tree\n",
        "    for child in tree.children:\n",
        "        print(' ' * indent + str(child.suffix) + \": \" + str(child.frequency))\n",
        "        # If the child is a SuffixNode, recursively print the subtree\n",
        "        if isinstance(child, SuffixNode):\n",
        "            print_tree(child, indent + 4)\n",
        "        else:\n",
        "            print(' ' * (indent + 4) + \"\\\"\" + str(child.suffix) + \"\\\": \" + str(child.frequency))"
      ],
      "metadata": {
        "id": "obhJEZC3d-rO"
      },
      "execution_count": 3,
      "outputs": []
    },
    {
      "cell_type": "markdown",
      "source": [
        "## Classes"
      ],
      "metadata": {
        "id": "gp8TIrvQG243"
      }
    },
    {
      "cell_type": "markdown",
      "source": [
        "### SuffixNode Class"
      ],
      "metadata": {
        "id": "_k3t-Px1Mo4D"
      }
    },
    {
      "cell_type": "code",
      "source": [
        "class SuffixNode:\n",
        "    def __init__(self,\n",
        "                 suffix=None,\n",
        "                 token=None,\n",
        "                 frequency=0,\n",
        "                 parent=None,\n",
        "                 children=None):\n",
        "        self.suffix = suffix\n",
        "        self.token = token\n",
        "        self.frequency = frequency\n",
        "\n",
        "        self.parent = parent\n",
        "\n",
        "        if children is None:\n",
        "            children = set()  # Initialize children as an empty set\n",
        "        self.children = children\n",
        "\n",
        "    def __str__(self):\n",
        "        return self.suffix\n",
        "\n",
        "\n",
        "    def split_edge(self, child, i):\n",
        "      old_suffix = child.suffix[i:]\n",
        "      new_suffix = self.suffix[i:]\n",
        "\n",
        "      # Replace the old entry for the current node with a new one for the edge split\n",
        "      split_node = SuffixNode(suffix=child.suffix[:i],\n",
        "                              frequency=child.frequency,\n",
        "                              parent=self,\n",
        "                              children=child.children)\n",
        "\n",
        "      # Remove the old child and add the new split node\n",
        "      self.children.remove(child)\n",
        "      self.children.add(split_node)\n",
        "\n",
        "      # Create a new node for the existing edge suffix\n",
        "      new_child = SuffixNode(suffix=old_suffix,\n",
        "                              frequency=1,\n",
        "                              parent=split_node,\n",
        "                              children=split_node.children)\n",
        "\n",
        "      # Transfer the children to the new split node's child\n",
        "      for grandchild in split_node.children:\n",
        "          grandchild.parent = new_child\n",
        "\n",
        "      # Create a new node for the new suffix\n",
        "      #     and move both it and the previous suffix beneath the split node\n",
        "      split_node.children = {new_child,\n",
        "                              SuffixNode(suffix=new_suffix,\n",
        "                                        frequency=1,\n",
        "                                        parent=split_node)\n",
        "      }\n",
        "\n",
        "\n",
        "    def add_suffix(self, suffix):\n",
        "\n",
        "        # Find the longest prefix match in the children\n",
        "        for child in self.children:\n",
        "\n",
        "            # Find the index of the longest common prefix\n",
        "            i = 0\n",
        "            while i < len(child.suffix) and i < len(suffix) and child.suffix[i] == suffix[i]:\n",
        "                i += 1\n",
        "\n",
        "            # If there is a common prefix\n",
        "            if i > 0:\n",
        "                # Update the frequency of the current node\n",
        "                child.frequency += 1\n",
        "\n",
        "                # If the common prefix is the entire child key, recurse into that child\n",
        "                if i == len(child.suffix):\n",
        "                    child.add_suffix(suffix[i:])\n",
        "\n",
        "                # If the common prefix is only part of the child key, split the edge\n",
        "                elif i < len(suffix):\n",
        "                    self.split_edge(child, i)\n",
        "\n",
        "                return\n",
        "\n",
        "        # No matching prefix, add the suffix as a new child\n",
        "        self.children.add(SuffixNode(suffix=suffix,\n",
        "                                     frequency=1,\n",
        "                                     parent=self))\n",
        "\n",
        "\n",
        "    def build_tree(self, string):\n",
        "        # loop through the string, starting with the last character\n",
        "        for i in range(0, len(string)):\n",
        "            suffix = string[len(string) - i - 1:]\n",
        "\n",
        "            # add the suffix to the tree\n",
        "            self.add_suffix(suffix)\n",
        "\n",
        "\n",
        "    def prune_tree(self, threshold=2):\n",
        "        # If the node has no children, return\n",
        "        if not self.children:\n",
        "            print(\"no children\")\n",
        "            return\n",
        "\n",
        "        children_to_kill = set()\n",
        "        # Recursively prune the tree\n",
        "        for child in self.children:\n",
        "\n",
        "            if isinstance(child, SuffixNode):\n",
        "                # if the child is above the threshold or it's a single character token node\n",
        "                if child.frequency >= threshold or child.parent is None:\n",
        "                    # print(\"not removed\")\n",
        "                    child.prune_tree(threshold)\n",
        "                else:\n",
        "                    # print(\"removed\")\n",
        "                    children_to_kill.add(child)\n",
        "\n",
        "        for child in children_to_kill:\n",
        "            # if the token's frequency falls below the threshold, prune it\n",
        "            self.children.remove(child)\n",
        "\n",
        "\n",
        "    # set all the suffix tree nodes' token properties\n",
        "    # return an aggregated set of all the tokens\n",
        "    def get_tokens(self, prev_token=\"\"):\n",
        "        tokens = dict()\n",
        "\n",
        "        for child in self.children:\n",
        "            if isinstance(child, SuffixNode):\n",
        "                token = prev_token + child.suffix\n",
        "\n",
        "                # set the child's token for later use\n",
        "                child.token = token\n",
        "\n",
        "                # add the accumulation of the current suffix with previous suffixes\n",
        "                #   as a new token in the token set, with the previously found frequency\n",
        "                tokens[token] = child.frequency\n",
        "                # Recursively get tokens from the child\n",
        "                tokens.update(child.get_tokens(token))\n",
        "\n",
        "        return tokens"
      ],
      "metadata": {
        "id": "rovuxbqdXhDu"
      },
      "execution_count": 4,
      "outputs": []
    },
    {
      "cell_type": "markdown",
      "source": [
        "### CompositionDAGNode"
      ],
      "metadata": {
        "id": "v3vtrUYGMsr0"
      }
    },
    {
      "cell_type": "code",
      "source": [
        "class CompositionDAGNode:\n",
        "    edge_set = set()\n",
        "\n",
        "    def __init__(self,\n",
        "                 token=None,\n",
        "                 frequency=0,\n",
        "                 parents=None,\n",
        "                 children=None):\n",
        "        self.token = token\n",
        "        self.frequency = frequency\n",
        "\n",
        "        if parents is None:\n",
        "            parents = list()\n",
        "        self.parents = parents\n",
        "\n",
        "        if children is None:\n",
        "            children = set()\n",
        "        self.children = children\n",
        "\n",
        "    def __str__(self):\n",
        "        return self.token\n",
        "\n",
        "\n",
        "    # make an edge between the current token and a successor\n",
        "    def add_edge(self, child):\n",
        "        # Add the larger token as a child of this token\n",
        "        self.children.add(child)\n",
        "\n",
        "        # Add this token to the list of parents composing the larger token\n",
        "        child.parents.append(self)\n",
        "\n",
        "        # Add an edge to the edge list, using the current token's position\n",
        "        #   in the child token as the edge weight\n",
        "        CompositionDAGNode.edge_set.add((self.token, child.token, len(child.parents) - 1))\n",
        "\n",
        "\n",
        "    def remove_edge(self, child, parent_pos):\n",
        "        # Remove the edge from the edge list\n",
        "        CompositionDAGNode.edge_set.remove((self, child, parent_pos))\n",
        "\n",
        "        # Ensure that there is a parent in the provided position\n",
        "        if child.parents[parent_pos] is not None:\n",
        "            # Remove this token as one of the parents composing the larger token,\n",
        "            #   in position parent_pos\n",
        "            child.parents[parent_pos] = None\n",
        "        else:\n",
        "            raise ValueError(\"No parent to remove at position \" + str(parent_pos) + \" for token \" + str(child))\n",
        "\n",
        "        # Remove the larger token as a child of this token\n",
        "        self.children.remove(child)\n",
        "\n",
        "\n",
        "    def replace_edge(self, old_child, new_child, parent_pos):\n",
        "        # Remove the old edge\n",
        "        self.remove_edge(old_child, parent_pos)\n",
        "\n",
        "        # Add the new edge\n",
        "        self.add_edge(new_child, parent_pos)\n",
        "\n",
        "\n",
        "    # since this is recursively saving smaller tokens, it's basically depth-first\n",
        "    def build_subgraph(self, all_tokens, vertices, suffix_tokenization):\n",
        "      for token in suffix_tokenization:\n",
        "\n",
        "        # if the predecessor token is not in the vertex store,\n",
        "        #   recursively build a sub-graph of suffix tokens\n",
        "        if token not in vertices.keys():\n",
        "            # create a new dag node for the current token\n",
        "            #   and put it in the vertex store\n",
        "            vertices[token] = CompositionDAGNode(token=token,\n",
        "                                      frequency=all_tokens[token])\n",
        "\n",
        "            # break the missing token into even smaller tokens using the largest available smaller tokens\n",
        "            curr_suffix_tokenization = tokenize(token, all_tokens, len(token) - 1)\n",
        "            # build a subgraph from the smaller tokens\n",
        "            vert, additional_vertices = vert.build_subgraph(vertices, curr_suffix_tokenization)\n",
        "            vertices.update(additional_vertices)\n",
        "\n",
        "        # base case: if the predecessor is in the vertex store\n",
        "        #   add an edge from the current node's predecessor to it\n",
        "        vertices[token].add_edge(self)\n",
        "\n",
        "      return self, vertices\n",
        "\n",
        "\n",
        "    # do breadth-first accumulation of the suffix tree into the dag\n",
        "    def suffix_tree_to_dag(self, suffix_tree):\n",
        "        all_tokens = suffix_tree.get_tokens()\n",
        "        vertices = {\n",
        "            self.token: self\n",
        "        }\n",
        "\n",
        "        suffix_node_queue = Queue()\n",
        "        suffix_node_queue.put(suffix_tree)\n",
        "\n",
        "        while not suffix_node_queue.empty():\n",
        "            # get the next suffix node from the queue\n",
        "            current_suffix_node = suffix_node_queue.get()\n",
        "\n",
        "            # create a dag vertex and add it to the set of vertices\n",
        "            vert = CompositionDAGNode(token=current_suffix_node.token,\n",
        "                                      frequency=current_suffix_node.frequency)\n",
        "            vertices[vert.token] = vert\n",
        "\n",
        "            # if it's the root of the base dag or one of the top-level tokens, just add it to the vertex dict\n",
        "            if current_suffix_node.parent is None or current_suffix_node.parent.token is None:\n",
        "                vertices[current_suffix_node.token] = vert\n",
        "                # add an edge from the base graph's root to the top-level token\n",
        "                self.add_edge(vert)\n",
        "\n",
        "            # otherwise, add edges\n",
        "            else:\n",
        "                # tokenize the current token using the largest available smaller tokens\n",
        "                current_tokenization = tokenize(current_suffix_node.token,\n",
        "                                               all_tokens,\n",
        "                                               len(current_suffix_node.token) - 1)\n",
        "\n",
        "                new_vert, additional_vertices = vert.build_subgraph(all_tokens, vertices, current_tokenization)\n",
        "                vertices[vert.token] = new_vert\n",
        "                vertices.update(additional_vertices)\n",
        "\n",
        "            # add all the current node's children to the queue\n",
        "            for child in current_suffix_node.children:\n",
        "                suffix_node_queue.put(child)\n",
        "\n",
        "        return vertices\n",
        "\n",
        "\n",
        "    def print_dag(self, indent = 0):\n",
        "        # Iterate over the child.suffixes (features) in the tree\n",
        "        for child in self.children:\n",
        "            print(' ' * indent + str(child.token) + \": \" + str(child.frequency))\n",
        "            # If the child is a CompositionDAGNode, recursively print the subgraphs\n",
        "            if isinstance(child, CompositionDAGNode):\n",
        "                child.print_dag(indent + 4)\n",
        "            else:\n",
        "                print(' ' * (indent + 4) + \"\\\"\" + str(child.suffix) + \"\\\": \" + str(child.frequency))"
      ],
      "metadata": {
        "id": "Jnl1pI1qM2Yl"
      },
      "execution_count": 41,
      "outputs": []
    },
    {
      "cell_type": "markdown",
      "source": [
        "#Embed Text"
      ],
      "metadata": {
        "id": "8Z3kELrESdur"
      }
    },
    {
      "cell_type": "markdown",
      "source": [
        "##Build Suffix Tree"
      ],
      "metadata": {
        "id": "cawUENP_HKsN"
      }
    },
    {
      "cell_type": "code",
      "source": [
        "test_url = \"https://courses.cs.washington.edu/courses/cse163/20wi/files/lectures/L04/bee-movie.txt\"\n",
        "# with url.urlopen(test_url) as f:\n",
        "#     text = f.read().decode('utf-8')\n",
        "\n",
        "text = \"abracadabra\"\n",
        "tests = [(\"CAGTCAGG\", 2),\n",
        "         (text, 2)]"
      ],
      "metadata": {
        "id": "13ofz24yHJ9O"
      },
      "execution_count": 42,
      "outputs": []
    },
    {
      "cell_type": "code",
      "source": [
        "tokenizations = dict()\n",
        "for test in tests:\n",
        "  suffix_tree = SuffixNode(children = { SuffixNode(suffix=unique_char) for unique_char in set(test[0]) })\n",
        "  suffix_tree.build_tree(test[0])\n",
        "\n",
        "  # print(\"Original Suffix Tree\")\n",
        "  # print_tree(suffix_tree)\n",
        "  # print()\n",
        "  # print()\n",
        "  print(\"Pruned Suffix Tree\")\n",
        "  suffix_tree.prune_tree(threshold=test[1])\n",
        "  print_tree(suffix_tree)\n",
        "\n",
        "  tokens = suffix_tree.get_tokens()\n",
        "  tokenizations[test] = tokens\n",
        "  print()\n",
        "  print(\"Tokens\")\n",
        "  print(tokens)"
      ],
      "metadata": {
        "colab": {
          "base_uri": "https://localhost:8080/"
        },
        "id": "imsuKapecmdG",
        "outputId": "6be0ea22-dc55-486d-bcd4-4e8dc9aabe6d"
      },
      "execution_count": 43,
      "outputs": [
        {
          "output_type": "stream",
          "name": "stdout",
          "text": [
            "Pruned Suffix Tree\n",
            "A: 2\n",
            "    G: 2\n",
            "C: 2\n",
            "    AG: 2\n",
            "T: 1\n",
            "G: 3\n",
            "\n",
            "Tokens\n",
            "{'A': 2, 'AG': 2, 'C': 2, 'CAG': 2, 'T': 1, 'G': 3}\n",
            "Pruned Suffix Tree\n",
            "r: 2\n",
            "    a: 2\n",
            "d: 1\n",
            "c: 1\n",
            "a: 5\n",
            "    bra: 2\n",
            "b: 2\n",
            "    ra: 2\n",
            "\n",
            "Tokens\n",
            "{'r': 2, 'ra': 2, 'd': 1, 'c': 1, 'a': 5, 'abra': 2, 'b': 2, 'bra': 2}\n"
          ]
        }
      ]
    },
    {
      "source": [
        "# # Initialize an empty dictionary to store token frequencies\n",
        "# all_tokens = {}\n",
        "\n",
        "# for test, tokens in tokenizations.items():\n",
        "#     freq_col_name = \"text_\" + str(test[0][:5]) + \"_threshold_\" + str(test[1]) + '__frequency'\n",
        "#     for token, frequency in tokens.items():\n",
        "#         if token not in all_tokens:\n",
        "#             all_tokens[token] = {}\n",
        "#         all_tokens[token][freq_col_name] = frequency\n",
        "\n",
        "# # Create the DataFrame from the collected token frequencies\n",
        "# df = pd.DataFrame.from_dict(all_tokens, orient='index')\n",
        "# df.index.name = 'token'\n",
        "# df.fillna(0, inplace=True)  # Fill any missing frequencies with 0\n",
        "# df = df.astype(int)  # Convert all frequency columns to integers\n",
        "# df.reset_index(inplace=True)\n",
        "# # df.rename(columns={'index': 'token'}, inplace=True\n",
        "\n",
        "# print(df.head(10))\n",
        "# print()\n",
        "# print(df.shape)"
      ],
      "cell_type": "code",
      "metadata": {
        "id": "YGOnOaKyFXo2"
      },
      "execution_count": 44,
      "outputs": []
    },
    {
      "cell_type": "code",
      "source": [
        "longest_token = df[df[\"token\"].apply(lambda x: len(x)) == max(len(token) for token in df[\"token\"])]\n",
        "longest_token"
      ],
      "metadata": {
        "colab": {
          "base_uri": "https://localhost:8080/",
          "height": 0
        },
        "id": "ly9cHOtvHMlP",
        "outputId": "0a3ad1a6-3d5b-40eb-ac1d-0c22420d6f6b"
      },
      "execution_count": 45,
      "outputs": [
        {
          "output_type": "execute_result",
          "data": {
            "text/plain": [
              "          token  text_CAGTC_threshold_2__frequency  \\\n",
              "11  abracadabra                                  0   \n",
              "\n",
              "    text_abrac_threshold_2__frequency  \n",
              "11                                  2  "
            ],
            "text/html": [
              "\n",
              "  <div id=\"df-dff19121-c17e-4b2e-8f98-e83d0e731e05\" class=\"colab-df-container\">\n",
              "    <div>\n",
              "<style scoped>\n",
              "    .dataframe tbody tr th:only-of-type {\n",
              "        vertical-align: middle;\n",
              "    }\n",
              "\n",
              "    .dataframe tbody tr th {\n",
              "        vertical-align: top;\n",
              "    }\n",
              "\n",
              "    .dataframe thead th {\n",
              "        text-align: right;\n",
              "    }\n",
              "</style>\n",
              "<table border=\"1\" class=\"dataframe\">\n",
              "  <thead>\n",
              "    <tr style=\"text-align: right;\">\n",
              "      <th></th>\n",
              "      <th>token</th>\n",
              "      <th>text_CAGTC_threshold_2__frequency</th>\n",
              "      <th>text_abrac_threshold_2__frequency</th>\n",
              "    </tr>\n",
              "  </thead>\n",
              "  <tbody>\n",
              "    <tr>\n",
              "      <th>11</th>\n",
              "      <td>abracadabra</td>\n",
              "      <td>0</td>\n",
              "      <td>2</td>\n",
              "    </tr>\n",
              "  </tbody>\n",
              "</table>\n",
              "</div>\n",
              "    <div class=\"colab-df-buttons\">\n",
              "\n",
              "  <div class=\"colab-df-container\">\n",
              "    <button class=\"colab-df-convert\" onclick=\"convertToInteractive('df-dff19121-c17e-4b2e-8f98-e83d0e731e05')\"\n",
              "            title=\"Convert this dataframe to an interactive table.\"\n",
              "            style=\"display:none;\">\n",
              "\n",
              "  <svg xmlns=\"http://www.w3.org/2000/svg\" height=\"24px\" viewBox=\"0 -960 960 960\">\n",
              "    <path d=\"M120-120v-720h720v720H120Zm60-500h600v-160H180v160Zm220 220h160v-160H400v160Zm0 220h160v-160H400v160ZM180-400h160v-160H180v160Zm440 0h160v-160H620v160ZM180-180h160v-160H180v160Zm440 0h160v-160H620v160Z\"/>\n",
              "  </svg>\n",
              "    </button>\n",
              "\n",
              "  <style>\n",
              "    .colab-df-container {\n",
              "      display:flex;\n",
              "      gap: 12px;\n",
              "    }\n",
              "\n",
              "    .colab-df-convert {\n",
              "      background-color: #E8F0FE;\n",
              "      border: none;\n",
              "      border-radius: 50%;\n",
              "      cursor: pointer;\n",
              "      display: none;\n",
              "      fill: #1967D2;\n",
              "      height: 32px;\n",
              "      padding: 0 0 0 0;\n",
              "      width: 32px;\n",
              "    }\n",
              "\n",
              "    .colab-df-convert:hover {\n",
              "      background-color: #E2EBFA;\n",
              "      box-shadow: 0px 1px 2px rgba(60, 64, 67, 0.3), 0px 1px 3px 1px rgba(60, 64, 67, 0.15);\n",
              "      fill: #174EA6;\n",
              "    }\n",
              "\n",
              "    .colab-df-buttons div {\n",
              "      margin-bottom: 4px;\n",
              "    }\n",
              "\n",
              "    [theme=dark] .colab-df-convert {\n",
              "      background-color: #3B4455;\n",
              "      fill: #D2E3FC;\n",
              "    }\n",
              "\n",
              "    [theme=dark] .colab-df-convert:hover {\n",
              "      background-color: #434B5C;\n",
              "      box-shadow: 0px 1px 3px 1px rgba(0, 0, 0, 0.15);\n",
              "      filter: drop-shadow(0px 1px 2px rgba(0, 0, 0, 0.3));\n",
              "      fill: #FFFFFF;\n",
              "    }\n",
              "  </style>\n",
              "\n",
              "    <script>\n",
              "      const buttonEl =\n",
              "        document.querySelector('#df-dff19121-c17e-4b2e-8f98-e83d0e731e05 button.colab-df-convert');\n",
              "      buttonEl.style.display =\n",
              "        google.colab.kernel.accessAllowed ? 'block' : 'none';\n",
              "\n",
              "      async function convertToInteractive(key) {\n",
              "        const element = document.querySelector('#df-dff19121-c17e-4b2e-8f98-e83d0e731e05');\n",
              "        const dataTable =\n",
              "          await google.colab.kernel.invokeFunction('convertToInteractive',\n",
              "                                                    [key], {});\n",
              "        if (!dataTable) return;\n",
              "\n",
              "        const docLinkHtml = 'Like what you see? Visit the ' +\n",
              "          '<a target=\"_blank\" href=https://colab.research.google.com/notebooks/data_table.ipynb>data table notebook</a>'\n",
              "          + ' to learn more about interactive tables.';\n",
              "        element.innerHTML = '';\n",
              "        dataTable['output_type'] = 'display_data';\n",
              "        await google.colab.output.renderOutput(dataTable, element);\n",
              "        const docLink = document.createElement('div');\n",
              "        docLink.innerHTML = docLinkHtml;\n",
              "        element.appendChild(docLink);\n",
              "      }\n",
              "    </script>\n",
              "  </div>\n",
              "\n",
              "\n",
              "  <div id=\"id_3bad99fb-8fe6-41e0-a433-66959ee5843a\">\n",
              "    <style>\n",
              "      .colab-df-generate {\n",
              "        background-color: #E8F0FE;\n",
              "        border: none;\n",
              "        border-radius: 50%;\n",
              "        cursor: pointer;\n",
              "        display: none;\n",
              "        fill: #1967D2;\n",
              "        height: 32px;\n",
              "        padding: 0 0 0 0;\n",
              "        width: 32px;\n",
              "      }\n",
              "\n",
              "      .colab-df-generate:hover {\n",
              "        background-color: #E2EBFA;\n",
              "        box-shadow: 0px 1px 2px rgba(60, 64, 67, 0.3), 0px 1px 3px 1px rgba(60, 64, 67, 0.15);\n",
              "        fill: #174EA6;\n",
              "      }\n",
              "\n",
              "      [theme=dark] .colab-df-generate {\n",
              "        background-color: #3B4455;\n",
              "        fill: #D2E3FC;\n",
              "      }\n",
              "\n",
              "      [theme=dark] .colab-df-generate:hover {\n",
              "        background-color: #434B5C;\n",
              "        box-shadow: 0px 1px 3px 1px rgba(0, 0, 0, 0.15);\n",
              "        filter: drop-shadow(0px 1px 2px rgba(0, 0, 0, 0.3));\n",
              "        fill: #FFFFFF;\n",
              "      }\n",
              "    </style>\n",
              "    <button class=\"colab-df-generate\" onclick=\"generateWithVariable('longest_token')\"\n",
              "            title=\"Generate code using this dataframe.\"\n",
              "            style=\"display:none;\">\n",
              "\n",
              "  <svg xmlns=\"http://www.w3.org/2000/svg\" height=\"24px\"viewBox=\"0 0 24 24\"\n",
              "       width=\"24px\">\n",
              "    <path d=\"M7,19H8.4L18.45,9,17,7.55,7,17.6ZM5,21V16.75L18.45,3.32a2,2,0,0,1,2.83,0l1.4,1.43a1.91,1.91,0,0,1,.58,1.4,1.91,1.91,0,0,1-.58,1.4L9.25,21ZM18.45,9,17,7.55Zm-12,3A5.31,5.31,0,0,0,4.9,8.1,5.31,5.31,0,0,0,1,6.5,5.31,5.31,0,0,0,4.9,4.9,5.31,5.31,0,0,0,6.5,1,5.31,5.31,0,0,0,8.1,4.9,5.31,5.31,0,0,0,12,6.5,5.46,5.46,0,0,0,6.5,12Z\"/>\n",
              "  </svg>\n",
              "    </button>\n",
              "    <script>\n",
              "      (() => {\n",
              "      const buttonEl =\n",
              "        document.querySelector('#id_3bad99fb-8fe6-41e0-a433-66959ee5843a button.colab-df-generate');\n",
              "      buttonEl.style.display =\n",
              "        google.colab.kernel.accessAllowed ? 'block' : 'none';\n",
              "\n",
              "      buttonEl.onclick = () => {\n",
              "        google.colab.notebook.generateWithVariable('longest_token');\n",
              "      }\n",
              "      })();\n",
              "    </script>\n",
              "  </div>\n",
              "\n",
              "    </div>\n",
              "  </div>\n"
            ],
            "application/vnd.google.colaboratory.intrinsic+json": {
              "type": "dataframe",
              "variable_name": "longest_token",
              "summary": "{\n  \"name\": \"longest_token\",\n  \"rows\": 1,\n  \"fields\": [\n    {\n      \"column\": \"token\",\n      \"properties\": {\n        \"dtype\": \"string\",\n        \"num_unique_values\": 1,\n        \"samples\": [\n          \"abracadabra\"\n        ],\n        \"semantic_type\": \"\",\n        \"description\": \"\"\n      }\n    },\n    {\n      \"column\": \"text_CAGTC_threshold_2__frequency\",\n      \"properties\": {\n        \"dtype\": \"number\",\n        \"std\": null,\n        \"min\": 0,\n        \"max\": 0,\n        \"num_unique_values\": 1,\n        \"samples\": [\n          0\n        ],\n        \"semantic_type\": \"\",\n        \"description\": \"\"\n      }\n    },\n    {\n      \"column\": \"text_abrac_threshold_2__frequency\",\n      \"properties\": {\n        \"dtype\": \"number\",\n        \"std\": null,\n        \"min\": 2,\n        \"max\": 2,\n        \"num_unique_values\": 1,\n        \"samples\": [\n          2\n        ],\n        \"semantic_type\": \"\",\n        \"description\": \"\"\n      }\n    }\n  ]\n}"
            }
          },
          "metadata": {},
          "execution_count": 45
        }
      ]
    },
    {
      "cell_type": "markdown",
      "source": [
        "##Build Token Composition DAG"
      ],
      "metadata": {
        "id": "fTC5e_qVOVvr"
      }
    },
    {
      "cell_type": "code",
      "source": [
        "composition_dag = CompositionDAGNode()\n",
        "composition_dag.suffix_tree_to_dag(suffix_tree)\n",
        "\n",
        "composition_dag.print_dag()"
      ],
      "metadata": {
        "id": "AsBBpDvyPulb",
        "colab": {
          "base_uri": "https://localhost:8080/"
        },
        "outputId": "c9c08023-e943-4f14-a51e-2ef46241f6e8"
      },
      "execution_count": 46,
      "outputs": [
        {
          "output_type": "stream",
          "name": "stdout",
          "text": [
            "a: 5\n",
            "    abra: 2\n",
            "    ra: 2\n",
            "        abra: 2\n",
            "        bra: 2\n",
            "None: 0\n",
            "c: 1\n",
            "d: 1\n",
            "b: 2\n",
            "    abra: 2\n",
            "    bra: 2\n",
            "r: 2\n",
            "    ra: 2\n",
            "        abra: 2\n",
            "        bra: 2\n"
          ]
        }
      ]
    },
    {
      "cell_type": "code",
      "source": [
        "CompositionDAGNode.edge_set"
      ],
      "metadata": {
        "colab": {
          "base_uri": "https://localhost:8080/"
        },
        "id": "faUAfyCJRr9J",
        "outputId": "b4bfa558-d3a4-45f9-f023-4b20d79cfb3c"
      },
      "execution_count": 47,
      "outputs": [
        {
          "output_type": "execute_result",
          "data": {
            "text/plain": [
              "{('a', 'abra', 0),\n",
              " ('a', 'ra', 1),\n",
              " ('b', 'abra', 1),\n",
              " ('b', 'bra', 0),\n",
              " ('r', 'ra', 0),\n",
              " ('ra', 'abra', 2),\n",
              " ('ra', 'bra', 1),\n",
              " (None, 'a', 0),\n",
              " (None, 'b', 0),\n",
              " (None, 'c', 0),\n",
              " (None, 'd', 0),\n",
              " (None, 'r', 0),\n",
              " (None, None, 0)}"
            ]
          },
          "metadata": {},
          "execution_count": 47
        }
      ]
    },
    {
      "cell_type": "code",
      "source": [
        "CompositionDAGNode.edge_set = {(pre, cum, pos + 1) for pre, cum, pos in CompositionDAGNode.edge_set if pre is not None}\n",
        "CompositionDAGNode.edge_set"
      ],
      "metadata": {
        "colab": {
          "base_uri": "https://localhost:8080/"
        },
        "id": "I6WbBxXQSwgr",
        "outputId": "41bbf699-2962-44ad-fa8f-74cea49630ca"
      },
      "execution_count": 55,
      "outputs": [
        {
          "output_type": "execute_result",
          "data": {
            "text/plain": [
              "{('a', 'abra', 1),\n",
              " ('a', 'ra', 2),\n",
              " ('b', 'abra', 2),\n",
              " ('b', 'bra', 1),\n",
              " ('r', 'ra', 1),\n",
              " ('ra', 'abra', 3),\n",
              " ('ra', 'bra', 2)}"
            ]
          },
          "metadata": {},
          "execution_count": 55
        }
      ]
    },
    {
      "cell_type": "code",
      "source": [
        "def plot_dag(edge_set):\n",
        "    # Initialize a directed graph\n",
        "    G = nx.Graph()\n",
        "\n",
        "    # Add edges to the graph\n",
        "    for parent, child, position in edge_set:\n",
        "        G.add_edge(parent, child, weight=position)\n",
        "\n",
        "    # Position nodes using the spring layout\n",
        "    pos = nx.spring_layout(G, seed=42)\n",
        "\n",
        "    # Calculate node sizes based on the length of the token text\n",
        "    node_sizes = [1000 * len(node) for node in G.nodes()]\n",
        "\n",
        "    # Draw nodes with sizes proportional to the length of their text\n",
        "    nx.draw_networkx_nodes(G, pos, node_size=node_sizes)\n",
        "\n",
        "    # Draw edges with widths based on edge weights\n",
        "    nx.draw_networkx_edges(G, pos, edgelist=edge_set, width=6)\n",
        "\n",
        "    # Draw node labels\n",
        "    nx.draw_networkx_labels(G, pos, font_size=10, font_family=\"sans-serif\")\n",
        "\n",
        "    # Draw edge weight labels\n",
        "    edge_labels = nx.get_edge_attributes(G, \"weight\")\n",
        "    nx.draw_networkx_edge_labels(G, pos, edge_labels)\n",
        "\n",
        "    # Customize and show plot\n",
        "    ax = plt.gca()\n",
        "    ax.margins(0.08)\n",
        "    plt.axis(\"off\")\n",
        "    plt.tight_layout()\n",
        "    plt.show()"
      ],
      "metadata": {
        "id": "o3fLyLBBV58a"
      },
      "execution_count": 66,
      "outputs": []
    },
    {
      "cell_type": "code",
      "source": [
        "plot_dag(CompositionDAGNode.edge_set)"
      ],
      "metadata": {
        "colab": {
          "base_uri": "https://localhost:8080/",
          "height": 487
        },
        "id": "soLamoAYOZ7D",
        "outputId": "7deb9ea2-e28b-4e03-db98-9fefc5911d5b"
      },
      "execution_count": 67,
      "outputs": [
        {
          "output_type": "display_data",
          "data": {
            "text/plain": [
              "<Figure size 640x480 with 1 Axes>"
            ],
            "image/png": "[encoded data removed]"
          },
          "metadata": {}
        }
      ]
    },
    {
      "cell_type": "code",
      "source": [],
      "metadata": {
        "id": "8DFl6mq1Ww3n"
      },
      "execution_count": null,
      "outputs": []
    }
  ]
}