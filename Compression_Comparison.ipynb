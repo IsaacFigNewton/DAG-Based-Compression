{
  "nbformat": 4,
  "nbformat_minor": 0,
  "metadata": {
    "colab": {
      "provenance": [],
      "authorship_tag": "ABX9TyOpIjA9m4a7YdYgRGAjc7xT",
      "include_colab_link": true
    },
    "kernelspec": {
      "name": "python3",
      "display_name": "Python 3"
    },
    "language_info": {
      "name": "python"
    }
  },
  "cells": [
    {
      "cell_type": "markdown",
      "metadata": {
        "id": "view-in-github",
        "colab_type": "text"
      },
      "source": [
        "<a href=\"https://colab.research.google.com/github/IsaacFigNewton/DAG-Based-Compression/blob/main/Compression_Comparison.ipynb\" target=\"_parent\"><img src=\"https://colab.research.google.com/assets/colab-badge.svg\" alt=\"Open In Colab\"/></a>"
      ]
    },
    {
      "cell_type": "markdown",
      "source": [
        "# TODO:\n",
        "\n",
        "<ol>\n",
        "  <li>Run several text compression algorithms</li>\n",
        "</ol>"
      ],
      "metadata": {
        "id": "3tYvXqBYxAwL"
      }
    },
    {
      "cell_type": "markdown",
      "source": [
        "#Install, Import, and Configure Stuff"
      ],
      "metadata": {
        "id": "6l6ttfG2xUOg"
      }
    },
    {
      "cell_type": "markdown",
      "source": [
        "## Install packages"
      ],
      "metadata": {
        "id": "Y6fwj7OixjCo"
      }
    },
    {
      "cell_type": "code",
      "execution_count": null,
      "metadata": {
        "id": "4lSsOz0iwc3r"
      },
      "outputs": [],
      "source": [
        "!pip install dahuffman"
      ]
    },
    {
      "cell_type": "code",
      "source": [
        "!pip install arithmetic-compressor"
      ],
      "metadata": {
        "id": "wTf_yWyf1yna"
      },
      "execution_count": null,
      "outputs": []
    },
    {
      "cell_type": "code",
      "source": [
        "!pip install python-rle"
      ],
      "metadata": {
        "id": "upePxIQh2Lby"
      },
      "execution_count": null,
      "outputs": []
    },
    {
      "cell_type": "code",
      "source": [
        "!git clone https://github.com/manassra/LZ77-Compressor.git"
      ],
      "metadata": {
        "id": "X7tuCJmh0ORZ"
      },
      "execution_count": null,
      "outputs": []
    },
    {
      "cell_type": "code",
      "source": [
        "!pip install python-lzrw1-kh"
      ],
      "metadata": {
        "id": "znknH4he0yYC"
      },
      "execution_count": null,
      "outputs": []
    },
    {
      "cell_type": "code",
      "source": [
        "!pip install lzw3"
      ],
      "metadata": {
        "id": "usdU-6Fq1MG7"
      },
      "execution_count": null,
      "outputs": []
    },
    {
      "cell_type": "markdown",
      "source": [
        "## Import Libraries and Algorithms"
      ],
      "metadata": {
        "id": "lIo8-zCBxfZJ"
      }
    },
    {
      "cell_type": "code",
      "source": [
        "from dahuffman import HuffmanCoding"
      ],
      "metadata": {
        "id": "5gPH_7CP0WJJ"
      },
      "execution_count": null,
      "outputs": []
    },
    {
      "cell_type": "code",
      "source": [
        "from arithmetic_compressor import ArithmeticCompressor"
      ],
      "metadata": {
        "id": "FR-1vj2C10fC"
      },
      "execution_count": null,
      "outputs": []
    },
    {
      "cell_type": "code",
      "source": [
        "from rle import RLE"
      ],
      "metadata": {
        "id": "OGh_4GJh2iQ0"
      },
      "execution_count": null,
      "outputs": []
    },
    {
      "cell_type": "code",
      "source": [
        "from LZ77 import LZ77Compressor\n",
        "compressor = LZ77Compressor(window_size=20)"
      ],
      "metadata": {
        "id": "uScYrYNcz2pS"
      },
      "execution_count": null,
      "outputs": []
    },
    {
      "cell_type": "code",
      "source": [
        "import lzrw1_kh"
      ],
      "metadata": {
        "id": "fJr3P39Q07gq"
      },
      "execution_count": null,
      "outputs": []
    },
    {
      "cell_type": "code",
      "source": [
        "import lzw3"
      ],
      "metadata": {
        "id": "XAQdNMmj1OrS"
      },
      "execution_count": null,
      "outputs": []
    },
    {
      "cell_type": "code",
      "source": [
        "import zlib\n",
        "import lzma\n",
        "import gzip\n",
        "import bz2"
      ],
      "metadata": {
        "id": "KsL9NUOk0i0K"
      },
      "execution_count": null,
      "outputs": []
    },
    {
      "cell_type": "code",
      "source": [
        "# import DAG-based approach\n",
        "from google.colab import drive\n",
        "drive.mount('/content/drive')\n",
        "\n",
        "code_path = '/content/drive/MyDrive/Research/Projects/Code/'"
      ],
      "metadata": {
        "colab": {
          "base_uri": "https://localhost:8080/"
        },
        "id": "1f_VWMxzxnfE",
        "outputId": "611dc8f1-e6c1-4001-e5c5-521b548c288c"
      },
      "execution_count": 2,
      "outputs": [
        {
          "output_type": "stream",
          "name": "stdout",
          "text": [
            "Mounted at /content/drive\n"
          ]
        }
      ]
    },
    {
      "cell_type": "markdown",
      "source": [
        "## Config"
      ],
      "metadata": {
        "id": "d-Xq39jj1Rus"
      }
    },
    {
      "cell_type": "code",
      "source": [
        "# blah"
      ],
      "metadata": {
        "id": "ELcmNXGV1TLD"
      },
      "execution_count": null,
      "outputs": []
    },
    {
      "cell_type": "markdown",
      "source": [
        "# Run compression algorithms"
      ],
      "metadata": {
        "id": "7tOo350V1WsU"
      }
    },
    {
      "cell_type": "code",
      "source": [],
      "metadata": {
        "id": "VUSHJ2Nm1Uqy"
      },
      "execution_count": null,
      "outputs": []
    }
  ]
}