{
  "nbformat": 4,
  "nbformat_minor": 0,
  "metadata": {
    "colab": {
      "provenance": [],
      "collapsed_sections": [
        "RWgUeFn-XoEf",
        "2xUKf_1ye-WJ"
      ],
      "authorship_tag": "ABX9TyNDyOENB7RKb5j3HP5HkOtP",
      "include_colab_link": true
    },
    "kernelspec": {
      "name": "python3",
      "display_name": "Python 3"
    },
    "language_info": {
      "name": "python"
    }
  },
  "cells": [
    {
      "cell_type": "markdown",
      "metadata": {
        "id": "view-in-github",
        "colab_type": "text"
      },
      "source": [
        "<a href=\"https://colab.research.google.com/github/IsaacFigNewton/DAG-Based-Compression/blob/main/DAG_Encoding.ipynb\" target=\"_parent\"><img src=\"https://colab.research.google.com/assets/colab-badge.svg\" alt=\"Open In Colab\"/></a>"
      ]
    },
    {
      "cell_type": "markdown",
      "source": [
        "# TODO\n",
        "\n",
        "\n",
        "\n",
        "1.   Switch from dictionary representation of children to set\n",
        "2.   Fix pruning\n"
      ],
      "metadata": {
        "id": "ky2XwlYkVi4Q"
      }
    },
    {
      "cell_type": "markdown",
      "source": [
        "# Install packages and import libraries"
      ],
      "metadata": {
        "id": "RWgUeFn-XoEf"
      }
    },
    {
      "cell_type": "code",
      "source": [
        "# !pip install --upgrade ete3  # http://etetoolkit.org/docs/latest/reference/reference_treeview.html#treestyle\n",
        "# !pip install PyQt5\n",
        "\n",
        "# import os\n",
        "# # Set the environment variables for PyQt5\n",
        "# os.environ['QT_QPA_PLATFORM_PLUGIN_PATH'] = '/usr/lib/x86_64-linux-gnu/qt5/plugins'\n",
        "# os.environ['QT_PLUGIN_PATH'] = '/usr/lib/x86_64-linux-gnu/qt5/plugins'\n",
        "# os.environ['QT_QPA_PLATFORM'] = 'xcb'\n",
        "# os.environ['QT_DEBUG_PLUGINS'] = '1'\n",
        "\n",
        "# # Keep trying to get this working to make things look nice\n",
        "# import ete3\n",
        "# from ete3 import Tree, TreeStyle"
      ],
      "metadata": {
        "id": "JUJhthv5WOFe"
      },
      "execution_count": 1,
      "outputs": []
    },
    {
      "cell_type": "code",
      "execution_count": 2,
      "metadata": {
        "id": "wpoJAKxqGmT8"
      },
      "outputs": [],
      "source": [
        "import numpy as np\n",
        "import pandas as pd\n",
        "import seaborn as sns\n",
        "\n",
        "import matplotlib.pyplot as plt\n",
        "\n",
        "import warnings\n",
        "# warnings.filterwarnings('ignore')"
      ]
    },
    {
      "cell_type": "markdown",
      "source": [
        "# Classes"
      ],
      "metadata": {
        "id": "gp8TIrvQG243"
      }
    },
    {
      "cell_type": "code",
      "source": [
        "class SuffixNode:\n",
        "    def __init__(self, suffix=None, frequency=0, children=None, parent=None):\n",
        "        self.suffix = suffix\n",
        "        self.frequency = frequency\n",
        "\n",
        "        if children is None:\n",
        "            children = set()  # Initialize children as an empty set\n",
        "        self.children = children\n",
        "        self.parent = parent\n",
        "\n",
        "    def __str__(self):\n",
        "        return self.suffix\n",
        "\n",
        "    def add_suffix(self, suffix):\n",
        "        if not suffix:\n",
        "            return  # If the suffix is empty, return\n",
        "\n",
        "        # Find the longest prefix match in the children\n",
        "        for child in self.children:\n",
        "            child_key = child.suffix\n",
        "\n",
        "            # Find the index of the longest common prefix\n",
        "            i = 0\n",
        "            while i < len(child_key) and i < len(suffix) and child_key[i] == suffix[i]:\n",
        "                i += 1\n",
        "\n",
        "            # If there is a common prefix\n",
        "            if i > 0:\n",
        "                # Update the frequency of the current node\n",
        "                child.frequency += 1\n",
        "\n",
        "                # If the common prefix is the entire child key, recurse into that child\n",
        "                if i == len(child_key):\n",
        "                    child.add_suffix(suffix[i:])\n",
        "\n",
        "                # If the common prefix is only part of the child key, split the edge\n",
        "                elif i < len(suffix):\n",
        "                    old_suffix = child_key[i:]\n",
        "                    new_suffix = suffix[i:]\n",
        "\n",
        "                    # Replace the old entry for the current node with a new one for the edge split\n",
        "                    new_child = SuffixNode(suffix=child_key[:i],\n",
        "                                           frequency=child.frequency,\n",
        "                                           parent=self)\n",
        "\n",
        "                    # Transfer the children to the new split node\n",
        "                    new_child.children = child.children\n",
        "                    for grandchild in new_child.children:\n",
        "                        grandchild.parent = new_child\n",
        "\n",
        "                    # Remove the old child and add the new split node\n",
        "                    self.children.remove(child)\n",
        "                    self.children.add(new_child)\n",
        "\n",
        "                    # Update the current node\n",
        "                    child = new_child\n",
        "\n",
        "                    # Create a new node for the existing edge suffix\n",
        "                    split_node = SuffixNode(suffix=old_suffix,\n",
        "                                            frequency=1,\n",
        "                                            parent=child)\n",
        "                    split_node.children = child.children\n",
        "\n",
        "                    # Create a new node for the new suffix\n",
        "                    new_child.children = set()\n",
        "                    new_child.children.add(split_node)\n",
        "                    new_child.children.add(SuffixNode(suffix=new_suffix,\n",
        "                                                      frequency=1,\n",
        "                                                      parent=child))\n",
        "                return\n",
        "\n",
        "        # No matching prefix, add the suffix as a new child\n",
        "        self.children.add(SuffixNode(suffix=suffix,\n",
        "                                     frequency=1,\n",
        "                                     parent=self))"
      ],
      "metadata": {
        "id": "rovuxbqdXhDu"
      },
      "execution_count": 30,
      "outputs": []
    },
    {
      "cell_type": "code",
      "source": [
        "def print_tree(tree, indent = 0):\n",
        "    # Iterate over the child.suffixs (features) in the tree\n",
        "    for child in tree.children:\n",
        "        print(' ' * indent + str(child.suffix) + \": \" + str(child.frequency))\n",
        "        # If the child is a SuffixNode, recursively print the subtree\n",
        "        if isinstance(child, SuffixNode):\n",
        "            print_tree(child, indent + 4)\n",
        "        else:\n",
        "            print(' ' * (indent + 4) + str(child.suffix) + \": \" + str(child.frequency))"
      ],
      "metadata": {
        "id": "obhJEZC3d-rO"
      },
      "execution_count": 31,
      "outputs": []
    },
    {
      "cell_type": "markdown",
      "source": [
        "#Build Suffix Tree"
      ],
      "metadata": {
        "id": "cawUENP_HKsN"
      }
    },
    {
      "cell_type": "code",
      "source": [
        "test = \"CAGTCAGG\"\n",
        "\n",
        "root = SuffixNode()\n",
        "root = SuffixNode(children = {\n",
        "    SuffixNode(suffix=\"C\"),\n",
        "    SuffixNode(suffix=\"A\"),\n",
        "    SuffixNode(suffix=\"T\"),\n",
        "    SuffixNode(suffix=\"G\")\n",
        "})\n",
        "\n",
        "# loop through the string, starting with the last character\n",
        "for i in range(0, len(test)):\n",
        "  suffix = test[len(test) - i - 1:]\n",
        "\n",
        "  # add the suffix to the tree\n",
        "  root.add_suffix(suffix)"
      ],
      "metadata": {
        "id": "13ofz24yHJ9O"
      },
      "execution_count": 32,
      "outputs": []
    },
    {
      "cell_type": "code",
      "source": [
        "print_tree(root)"
      ],
      "metadata": {
        "colab": {
          "base_uri": "https://localhost:8080/"
        },
        "id": "imsuKapecmdG",
        "outputId": "4c58a2c5-5657-4f2c-db66-ee009fd787d8"
      },
      "execution_count": 34,
      "outputs": [
        {
          "output_type": "stream",
          "name": "stdout",
          "text": [
            "T: 1\n",
            "    CAGG: 1\n",
            "C: 2\n",
            "    AG: 2\n",
            "        TCAGG: 1\n",
            "        G: 1\n",
            "G: 3\n",
            "    TCAGG: 1\n",
            "    G: 1\n",
            "A: 2\n",
            "    G: 2\n",
            "        G: 1\n",
            "        TCAGG: 1\n"
          ]
        }
      ]
    },
    {
      "cell_type": "code",
      "source": [
        "# root.prune_tree(1)"
      ],
      "metadata": {
        "id": "e_xcOkRb8-iw"
      },
      "execution_count": null,
      "outputs": []
    },
    {
      "cell_type": "markdown",
      "source": [
        "# To fix later"
      ],
      "metadata": {
        "id": "2xUKf_1ye-WJ"
      }
    },
    {
      "cell_type": "code",
      "source": [
        "# # Loads a tree structure from a newick string. The returned variable ’t’ is the root node for the tree.\n",
        "# t = Tree(\"(A:1,(B:1,(E:1,D:1):0.5):0.5);\" )\n",
        "\n",
        "# print(t)\n",
        "\n",
        "# # ts = TreeStyle()\n",
        "# # ts.show_leaf_name = True\n",
        "\n",
        "# # t.show(tree_style=ts)"
      ],
      "metadata": {
        "id": "BXiGBtLqLqnI"
      },
      "execution_count": null,
      "outputs": []
    },
    {
      "cell_type": "code",
      "source": [],
      "metadata": {
        "id": "8DFl6mq1Ww3n"
      },
      "execution_count": null,
      "outputs": []
    }
  ]
}