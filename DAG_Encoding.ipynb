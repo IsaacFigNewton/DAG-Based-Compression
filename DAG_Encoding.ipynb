{
  "nbformat": 4,
  "nbformat_minor": 0,
  "metadata": {
    "colab": {
      "provenance": [],
      "collapsed_sections": [
        "RWgUeFn-XoEf",
        "2xUKf_1ye-WJ"
      ],
      "authorship_tag": "ABX9TyN7eoNQ6s+M+L/BIhcdqoK+",
      "include_colab_link": true
    },
    "kernelspec": {
      "name": "python3",
      "display_name": "Python 3"
    },
    "language_info": {
      "name": "python"
    }
  },
  "cells": [
    {
      "cell_type": "markdown",
      "metadata": {
        "id": "view-in-github",
        "colab_type": "text"
      },
      "source": [
        "<a href=\"https://colab.research.google.com/github/IsaacFigNewton/DAG-Based-Compression/blob/main/DAG_Encoding.ipynb\" target=\"_parent\"><img src=\"https://colab.research.google.com/assets/colab-badge.svg\" alt=\"Open In Colab\"/></a>"
      ]
    },
    {
      "cell_type": "markdown",
      "source": [
        "# Install packages and import libraries"
      ],
      "metadata": {
        "id": "RWgUeFn-XoEf"
      }
    },
    {
      "cell_type": "code",
      "source": [
        "# !pip install --upgrade ete3  # http://etetoolkit.org/docs/latest/reference/reference_treeview.html#treestyle\n",
        "# !pip install PyQt5\n",
        "\n",
        "# import os\n",
        "# # Set the environment variables for PyQt5\n",
        "# os.environ['QT_QPA_PLATFORM_PLUGIN_PATH'] = '/usr/lib/x86_64-linux-gnu/qt5/plugins'\n",
        "# os.environ['QT_PLUGIN_PATH'] = '/usr/lib/x86_64-linux-gnu/qt5/plugins'\n",
        "# os.environ['QT_QPA_PLATFORM'] = 'xcb'\n",
        "# os.environ['QT_DEBUG_PLUGINS'] = '1'\n",
        "\n",
        "# # Keep trying to get this working to make things look nice\n",
        "# import ete3\n",
        "# from ete3 import Tree, TreeStyle"
      ],
      "metadata": {
        "id": "JUJhthv5WOFe"
      },
      "execution_count": 1,
      "outputs": []
    },
    {
      "cell_type": "code",
      "execution_count": 2,
      "metadata": {
        "id": "wpoJAKxqGmT8"
      },
      "outputs": [],
      "source": [
        "import numpy as np\n",
        "import pandas as pd\n",
        "import seaborn as sns\n",
        "\n",
        "import matplotlib.pyplot as plt\n",
        "\n",
        "import warnings\n",
        "# warnings.filterwarnings('ignore')"
      ]
    },
    {
      "cell_type": "markdown",
      "source": [
        "# Classes"
      ],
      "metadata": {
        "id": "gp8TIrvQG243"
      }
    },
    {
      "cell_type": "code",
      "source": [
        "class SuffixNode:\n",
        "  def __init__ (self, suffix=None, children=None, parent=None):\n",
        "    self.suffix = suffix\n",
        "    if children is None:\n",
        "      children = dict()\n",
        "    self.children = children\n",
        "    self.parent = parent\n",
        "\n",
        "  def __str__(self):\n",
        "    return self.suffix\n",
        "\n",
        "  def add_suffix(self, suffix):\n",
        "    # if the suffix is empty, return\n",
        "    if not suffix:\n",
        "        return\n",
        "\n",
        "    # Find the longest prefix match in the children\n",
        "    for child_key, child_node in self.children.items():\n",
        "        # Find the index of the longest common prefix\n",
        "        i = 0\n",
        "        while i < len(child_key) and i < len(suffix) and child_key[i] == suffix[i]:\n",
        "            i += 1\n",
        "\n",
        "        # If there is a common prefix\n",
        "        if i > 0:\n",
        "            if i == len(child_key):\n",
        "                # If the entire child key is a prefix, recurse into that child\n",
        "                child_node.add_suffix(suffix[i:])\n",
        "\n",
        "            elif i < len(suffix):\n",
        "                # Split the edge\n",
        "                old_suffix = child_key[i:]\n",
        "                new_suffix = suffix[i:]\n",
        "\n",
        "                # Replace the old entry for the current node with a new one for the edge split\n",
        "                #   ie AGG ==> AG\n",
        "                #               |\n",
        "                #               G\n",
        "                self.children[child_key[:i]] = SuffixNode(suffix=child_key[:i],\n",
        "                                                          parent=self,\n",
        "                                                          children=child_node.children)\n",
        "                del self.children[child_key]\n",
        "                child_node = self.children[child_key[:i]]\n",
        "                child_key = child_key[:i]\n",
        "\n",
        "                # Create a new node for the existing edge suffix\n",
        "                split_node = SuffixNode(suffix=old_suffix, parent=child_node)\n",
        "                split_node.children = child_node.children\n",
        "\n",
        "                # Create a new node for the new suffix\n",
        "                child_node.suffix = child_key[:i]\n",
        "                child_node.children = {old_suffix: split_node}\n",
        "                child_node.children[new_suffix] = SuffixNode(suffix=new_suffix, parent=child_node)\n",
        "\n",
        "            return\n",
        "\n",
        "    # No matching prefix, add the suffix as a new child\n",
        "    self.children[suffix] = SuffixNode(suffix=suffix, parent=self)"
      ],
      "metadata": {
        "id": "UefTg5R9G4gV"
      },
      "execution_count": 34,
      "outputs": []
    },
    {
      "cell_type": "code",
      "source": [
        "def print_tree(tree, indent = 0):\n",
        "    # Iterate over the keys (features) in the tree\n",
        "    for key, node in tree.children.items():\n",
        "        print(' ' * indent + str(key))\n",
        "        # If the node is a SuffixNode, recursively print the subtree\n",
        "        if isinstance(node, SuffixNode):\n",
        "            print_tree(node, indent + 4)\n",
        "        else:\n",
        "            print(' ' * (indent + 4) + str(key))"
      ],
      "metadata": {
        "id": "obhJEZC3d-rO"
      },
      "execution_count": 35,
      "outputs": []
    },
    {
      "cell_type": "markdown",
      "source": [
        "#Build Suffix Tree"
      ],
      "metadata": {
        "id": "cawUENP_HKsN"
      }
    },
    {
      "cell_type": "code",
      "source": [
        "test = \"CAGTCAGG\"\n",
        "\n",
        "root = SuffixNode()\n",
        "root = SuffixNode(children = {\n",
        "    \"C\": SuffixNode(),\n",
        "    \"A\": SuffixNode(),\n",
        "    \"T\": SuffixNode(),\n",
        "    \"G\": SuffixNode()\n",
        "})\n",
        "\n",
        "# loop through the string, starting with the last character\n",
        "for i in range(0, len(test)):\n",
        "  suffix = test[len(test) - i - 1:]\n",
        "\n",
        "  # add the suffix to the tree\n",
        "  root.add_suffix(suffix)\n"
      ],
      "metadata": {
        "id": "13ofz24yHJ9O"
      },
      "execution_count": 38,
      "outputs": []
    },
    {
      "cell_type": "code",
      "source": [
        "print_tree(root)"
      ],
      "metadata": {
        "colab": {
          "base_uri": "https://localhost:8080/"
        },
        "id": "imsuKapecmdG",
        "outputId": "82371815-88b3-46d5-991b-cedbeba5ee3e"
      },
      "execution_count": 39,
      "outputs": [
        {
          "output_type": "stream",
          "name": "stdout",
          "text": [
            "C\n",
            "    AG\n",
            "        G\n",
            "        TCAGG\n",
            "A\n",
            "    G\n",
            "        G\n",
            "        TCAGG\n",
            "T\n",
            "    CAGG\n",
            "G\n",
            "    G\n",
            "    TCAGG\n"
          ]
        }
      ]
    },
    {
      "cell_type": "markdown",
      "source": [
        "# To fix later"
      ],
      "metadata": {
        "id": "2xUKf_1ye-WJ"
      }
    },
    {
      "cell_type": "code",
      "source": [
        "# # Loads a tree structure from a newick string. The returned variable ’t’ is the root node for the tree.\n",
        "# t = Tree(\"(A:1,(B:1,(E:1,D:1):0.5):0.5);\" )\n",
        "\n",
        "# print(t)\n",
        "\n",
        "# # ts = TreeStyle()\n",
        "# # ts.show_leaf_name = True\n",
        "\n",
        "# # t.show(tree_style=ts)"
      ],
      "metadata": {
        "id": "BXiGBtLqLqnI"
      },
      "execution_count": 7,
      "outputs": []
    },
    {
      "cell_type": "code",
      "source": [],
      "metadata": {
        "id": "8DFl6mq1Ww3n"
      },
      "execution_count": 7,
      "outputs": []
    }
  ]
}